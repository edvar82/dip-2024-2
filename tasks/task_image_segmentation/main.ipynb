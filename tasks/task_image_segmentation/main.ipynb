version https://git-lfs.github.com/spec/v1
oid sha256:b2695861b31126285837473cb6a0878e8ccfa2f8710faad642aef611c43815e7
size 27680478
